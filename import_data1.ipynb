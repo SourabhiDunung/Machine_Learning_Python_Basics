{
  "nbformat": 4,
  "nbformat_minor": 0,
  "metadata": {
    "colab": {
      "provenance": [],
      "authorship_tag": "ABX9TyNZQCFF7K/5+UM48DeEmE1o",
      "include_colab_link": true
    },
    "kernelspec": {
      "name": "python3",
      "display_name": "Python 3"
    },
    "language_info": {
      "name": "python"
    }
  },
  "cells": [
    {
      "cell_type": "markdown",
      "metadata": {
        "id": "view-in-github",
        "colab_type": "text"
      },
      "source": [
        "<a href=\"https://colab.research.google.com/github/SourabhiDunung/Machine_Learning_Python_Basics/blob/main/import_data1.ipynb\" target=\"_parent\"><img src=\"https://colab.research.google.com/assets/colab-badge.svg\" alt=\"Open In Colab\"/></a>"
      ]
    },
    {
      "cell_type": "code",
      "execution_count": null,
      "metadata": {
        "id": "SzGSPSNwrYvp"
      },
      "outputs": [],
      "source": [
        "import pandas as pd"
      ]
    },
    {
      "cell_type": "code",
      "source": [
        "data_1=pd.read_csv('nba.csv')"
      ],
      "metadata": {
        "id": "gl_InPB0sdIw"
      },
      "execution_count": null,
      "outputs": []
    },
    {
      "cell_type": "code",
      "source": [
        "print(data_1)"
      ],
      "metadata": {
        "colab": {
          "base_uri": "https://localhost:8080/"
        },
        "id": "f-xNUkyEtoEL",
        "outputId": "481f2721-1909-4c60-c4fa-c26b582de620"
      },
      "execution_count": null,
      "outputs": [
        {
          "output_type": "stream",
          "name": "stdout",
          "text": [
            "              Name            Team  Number Position   Age Height  Weight  \\\n",
            "0    Avery Bradley  Boston Celtics     0.0       PG  25.0    6-2   180.0   \n",
            "1      Jae Crowder  Boston Celtics    99.0       SF  25.0    6-6   235.0   \n",
            "2     John Holland  Boston Celtics    30.0       SG  27.0    6-5   205.0   \n",
            "3      R.J. Hunter  Boston Celtics    28.0       SG  22.0    6-5   185.0   \n",
            "4    Jonas Jerebko  Boston Celtics     8.0       PF  29.0   6-10   231.0   \n",
            "..             ...             ...     ...      ...   ...    ...     ...   \n",
            "453   Shelvin Mack       Utah Jazz     8.0       PG  26.0    6-3   203.0   \n",
            "454      Raul Neto       Utah Jazz    25.0       PG  24.0    6-1   179.0   \n",
            "455   Tibor Pleiss       Utah Jazz    21.0        C  26.0    7-3   256.0   \n",
            "456    Jeff Withey       Utah Jazz    24.0        C  26.0    7-0   231.0   \n",
            "457            NaN             NaN     NaN      NaN   NaN    NaN     NaN   \n",
            "\n",
            "               College     Salary  \n",
            "0                Texas  7730337.0  \n",
            "1            Marquette  6796117.0  \n",
            "2    Boston University        NaN  \n",
            "3        Georgia State  1148640.0  \n",
            "4                  NaN  5000000.0  \n",
            "..                 ...        ...  \n",
            "453             Butler  2433333.0  \n",
            "454                NaN   900000.0  \n",
            "455                NaN  2900000.0  \n",
            "456             Kansas   947276.0  \n",
            "457                NaN        NaN  \n",
            "\n",
            "[458 rows x 9 columns]\n"
          ]
        }
      ]
    },
    {
      "cell_type": "code",
      "source": [
        "data_2=pd.read_csv('kaggle_data.xls')"
      ],
      "metadata": {
        "id": "yiknCmJTvJ5D"
      },
      "execution_count": null,
      "outputs": []
    },
    {
      "cell_type": "code",
      "source": [
        "print(data_2)"
      ],
      "metadata": {
        "colab": {
          "base_uri": "https://localhost:8080/"
        },
        "id": "2wq7KEUAvcl0",
        "outputId": "eb4fad4e-f2d1-43a9-f541-d0ad96226d91"
      },
      "execution_count": null,
      "outputs": [
        {
          "output_type": "stream",
          "name": "stdout",
          "text": [
            "   Unnamed: 0       team_1       team_2        stage  Winner_toss  \\\n",
            "0     Match_1    Australia  SouthAfrica  Group_stage    Australia   \n",
            "1     Match_2      England      Windies  Group_stage      England   \n",
            "2     Match_3     Srilanka   Bangladesh  Group_stage     Srilanka   \n",
            "3     Match_4     Pakistan        India  Group_stage     Pakistan   \n",
            "4     Match_5  Afghanistan     Scotland  Group_stage  Afghanistan   \n",
            "5     Match_6  SouthAfrica      Windies  Group_stage  SouthAfrica   \n",
            "6     Match_7     Pakistan  New_Zealand  Group_stage     Pakistan   \n",
            "7     Match_8      England   Bangladesh  Group_stage   Bangladesh   \n",
            "8     Match_9      Namibia     ScotLand  Group_stage      Namibia   \n",
            "9    Match_10    Australia     Srilanka  Group_stage    Australia   \n",
            "10   Match_11      Windies   Bangladesh  Group_stage   Bangladesh   \n",
            "11   Match_12     Pakistan  Afghanistan  Group_stage  Afghanistan   \n",
            "12   Match_13  SouthAfrica     Srilanka  Group_stage  SouthAfrica   \n",
            "13   Match_14      England    Australia  Group_stage      England   \n",
            "14   Match_15  Afghanistan      Namibia  Group_stage  Afghanistan   \n",
            "15   Match_16  New_Zealand        India  Group_stage  New_Zealand   \n",
            "16   Match_17      England     Srilanka  Group_stage     Srilanka   \n",
            "17   Match_18  SouthAfrica   Bangladesh  Group_stage  SouthAfrica   \n",
            "18   Match_19     Pakistan      Namibia  Group_stage     Pakistan   \n",
            "19   Match_20  New_Zealand     ScotLand  Group_stage  New_Zealand   \n",
            "20   Match_21        India  Afghanistan  Group_stage  Afghanistan   \n",
            "21   Match_22    Australia   Bangladesh  Group_stage    Australia   \n",
            "22   Match_23     Srilanka      Windies  Group_stage      Windies   \n",
            "23   Match_24  New_Zealand      Namibia  Group_stage      Namibia   \n",
            "24   Match_25        India     ScotLand  Group_stage        India   \n",
            "25   Match_26    Australia      Windies  Group_stage    Australia   \n",
            "26   Match_27  SouthAfrica      England  Group_stage      England   \n",
            "27   Match_28  New_Zealand  Afghanistan  Group_stage  Afghanistan   \n",
            "28   Match_29     Pakistan     ScotLand  Group_stage     Pakistan   \n",
            "29   Match_30        India      Namibia  Group_stage        India   \n",
            "30   Match_31  New_Zealand      England   Semi_Final  New_Zealand   \n",
            "31   Match_32    Australia     Pakistan   Semi_Final    Australia   \n",
            "32   Match_33    Australia  New_Zealand        Final    Australia   \n",
            "\n",
            "   Toss_descision       time      venue  avg_temperature        best_bowler  \\\n",
            "0        Fielding  afternoon  Abu_Dhabi               30     Josh_Hazlewood   \n",
            "1        Fielding    evening      Dubai               33        Adil_Rashid   \n",
            "2        Fielding  afternoon    Sharjah               34   Shakib_al_Hassan   \n",
            "3        Fielding    evening      Dubai               34       Shaheen_shah   \n",
            "4         Batting    evening    Sharjah               33   Mujeeb_ur_Rehman   \n",
            "5        Fielding  afternoon      Dubai               33  Dwaine_Pretorious   \n",
            "6        Fielding    evening    Sharjah               29         Haris_Rauf   \n",
            "7         Batting  afternoon  Abu_Dhabi               30        Tymal_Mills   \n",
            "8        Fielding    evening  Abu_Dhabi               29  Ruben_Trumpelmann   \n",
            "9        Fielding    evening      Dubai               28         Adam_Zampa   \n",
            "10       Fielding  afternoon    Sharjah               30     Shoriful_Islam   \n",
            "11        Batting    evening      Dubai               30         Imad_Wasim   \n",
            "12       Fielding  afternoon    Sharjah               31     Tabraiz_Shamsi   \n",
            "13       Fielding    evening      Dubai               30       Criss_Jordan   \n",
            "14        Batting  afternoon  Abu_Dhabi               30       Hamid_Hassan   \n",
            "15       Fielding    evening      Dubai               30        Trent_Boult   \n",
            "16       Fielding    evening    Sharjah               28  Wanindu_Hasaranga   \n",
            "17       Fielding  afternoon  Abu_Dhabi               30      Anrich_Nortje   \n",
            "18        Batting    evening  Abu_Dhabi               29         Imad_wasim   \n",
            "19       Fielding  afternoon      Dubai               29     Safyaan_Sharif   \n",
            "20       Fielding    evening  Abu_Dhabi               29     Mohammed Shami   \n",
            "21       Fielding  afternoon      Dubai               29         Adam_Zampa   \n",
            "22       Fielding    evening  Abu_Dhabi               28  Wanindu_Hasaranga   \n",
            "23       Fielding  afternoon    Sharjah               28        Tim_Southee   \n",
            "24       Fielding    evening      Dubai               28    Ravindra_Jadeja   \n",
            "25       Fielding  afternoon  Abu_Dhabi               20     Josh_Hazlewood   \n",
            "26       Fielding    evening    Sharjah               27      Kagiso_Rabada   \n",
            "27        Batting  afternoon  Abu_Dhabi               29        Trent_Boult   \n",
            "28        Batting    evening    Sharjah               27        Shadab_Khan   \n",
            "29       Fielding    evening      Dubai               28    Ravindra_Jadeja   \n",
            "30       Fielding    evening  Abu_Dhabi               28   Liam_Livingstone   \n",
            "31       Fielding    evening      Dubai               29        Shadab_Khan   \n",
            "32       Fielding    evening      Dubai               26     Josh_Hazlewood   \n",
            "\n",
            "    ... best_bowler_country            best_batter  batting_hand  \\\n",
            "0   ...           Australia          Aiden_Markram         Right   \n",
            "1   ...             England            Jos_Buttler         Right   \n",
            "2   ...          Bangladesh       Charith_Asalanka          Left   \n",
            "3   ...            Pakistan        Muhammad_Rizwan         Right   \n",
            "4   ...         Afghanistan      Najibullah_Zadran          Left   \n",
            "5   ...         SouthAfrica             Evin_Lewis          Left   \n",
            "6   ...            Pakistan        Muhammad_Rizwan         Right   \n",
            "7   ...             England              Jason_Roy         Right   \n",
            "8   ...             Namibia          Michael_Leask         Right   \n",
            "9   ...           Australia           David_Warner          Left   \n",
            "10  ...          Bangladesh              Liton_Das         Right   \n",
            "11  ...            Pakistan             Babar_Azam         Right   \n",
            "12  ...         SouthAfrica        Pathum_Nissanka         Right   \n",
            "13  ...             England            Jos_Buttler         Right   \n",
            "14  ...         Afghanistan       Mohammad_Shahzad         Right   \n",
            "15  ...         New_Zealand         Daryl_Mitchell         Right   \n",
            "16  ...            Srilanka            Jos_Buttler         Right   \n",
            "17  ...         SouthAfrica          Temaba_Bavuma         Right   \n",
            "18  ...            Pakistan        Muhammad_Rizwan         Right   \n",
            "19  ...            ScotLand         Martin_Guptill         Right   \n",
            "20  ...               India           Rohit_Sharma         Right   \n",
            "21  ...           Australia            Aaron_Finch         Right   \n",
            "22  ...            Srilanka        Shimron_Hetmyer          Left   \n",
            "23  ...         New_Zealand         Glenn_Phillips         Right   \n",
            "24  ...               India               KL_Rahul         Right   \n",
            "25  ...           Australia           David_Warner          Left   \n",
            "26  ...         SouthAfrica  Rassie van der Dussen         Right   \n",
            "27  ...         New_Zealand      Najibullah_Zadran          Left   \n",
            "28  ...            Pakistan             Babar_Azam         Right   \n",
            "29  ...               India           Rohit_Sharma         Right   \n",
            "30  ...             England         Daryl_Mitchell         Right   \n",
            "31  ...            Pakistan        Muhammad_Rizwan         Right   \n",
            "32  ...           Australia        Kane_Williamson         Right   \n",
            "\n",
            "    high_indvidual_scores strike_rate best_batter_team target  \\\n",
            "0                      40      111.10      SouthAfrica    119   \n",
            "1                      24      109.10          England     56   \n",
            "2                      80      163.20         Srilanka    172   \n",
            "3                      79      143.60         Pakistan    152   \n",
            "4                      59      173.53      Afghanistan    191   \n",
            "5                      56      160.00          Windies    144   \n",
            "6                      33       97.06         Pakistan    135   \n",
            "7                      61      160.50          England    125   \n",
            "8                      44      162.90         ScotLand    110   \n",
            "9                      65      154.76        Australia    155   \n",
            "10                     40      102.30       Bangladesh    140   \n",
            "11                     51      108.50         Pakistan    148   \n",
            "12                     72      124.14         Srilanka    143   \n",
            "13                     71      221.80          England    126   \n",
            "14                     45      136.36      Afghanistan    161   \n",
            "15                     49      140.00      New_Zealand    111   \n",
            "16                    101      150.75          England    164   \n",
            "17                     31      110.70      SouthAfrica     85   \n",
            "18                     79      158.00         Pakistan    190   \n",
            "19                     93      166.07      New_Zealand    173   \n",
            "20                     74      157.45            India    211   \n",
            "21                     40      200.00        Australia     74   \n",
            "22                     81      150.00          Windies    190   \n",
            "23                     39      185.71      New_Zealand    164   \n",
            "24                     50      263.16            India     86   \n",
            "25                     89      158.93        Australia    158   \n",
            "26                     94      156.67      SouthAfrica    190   \n",
            "27                     73      152.08      Afghanistan    125   \n",
            "28                     66      140.43         Pakistan    190   \n",
            "29                     56      151.35            India    133   \n",
            "30                     72      153.19      New_Zealand    167   \n",
            "31                     67      128.85         Pakistan    177   \n",
            "32                     85      177.08      New_Zealand    173   \n",
            "\n",
            "    target_achieved    Player_of_the_match       Winner  \n",
            "0                 1         Josh_Hazlewood    Australia  \n",
            "1                 1              Moeen_Ali      England  \n",
            "2                 1       Charith_Asalanka     Srilanka  \n",
            "3                 1           Shaheen_shah     Pakistan  \n",
            "4                 0       Mujeeb_ur_Rehman  Afghanistan  \n",
            "5                 1          Anrich_Nortje  SouthAfrica  \n",
            "6                 1             Haris_Rauf     Pakistan  \n",
            "7                 1              Jason_Roy      England  \n",
            "8                 1      Ruben_Trumpelmann      Namibia  \n",
            "9                 1             Adam_Zampa    Australia  \n",
            "10                1        Nicholas_Pooran      Windies  \n",
            "11                1               Asif_Ali     Pakistan  \n",
            "12                1         Tabraiz_Shamsi  SouthAfrica  \n",
            "13                1           Chris_Jordan      England  \n",
            "14                0          Naveen_ul_Haq  Afghanistan  \n",
            "15                1            Trent_Boult  New_Zealand  \n",
            "16                0            Jos_Buttler      England  \n",
            "17                1          Kagiso_Rabada  SouthAfrica  \n",
            "18                0        Muhammad_Rizwan     Pakistan  \n",
            "19                0         Martin_Guptill  New_Zealand  \n",
            "20                0           Rohit_Sharma        India  \n",
            "21                1             Adam_Zampa    Australia  \n",
            "22                0        Chrith_Adalanka     Srilanka  \n",
            "23                0          James_Neesham  New_Zealand  \n",
            "24                1        Ravindra_Jadeja        India  \n",
            "25                1           David_Warner    Australia  \n",
            "26                0  Rassie_van_der_Dussen  SouthAfrica  \n",
            "27                1            Trent_Boult  New_Zealand  \n",
            "28                0           Shoaib_Malik     Pakistan  \n",
            "29                1        Ravindra_Jadeja        India  \n",
            "30                1         Daryl_Mitchell  New_Zealand  \n",
            "31                1           Matthew_Wade    Australia  \n",
            "32                1         Mitchell_Marsh    Australia  \n",
            "\n",
            "[33 rows x 24 columns]\n"
          ]
        }
      ]
    }
  ]
}